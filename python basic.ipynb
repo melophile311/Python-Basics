{
 "cells": [
  {
   "cell_type": "raw",
   "id": "bfcd280d-47b5-4449-824b-6ffc0e86e0f6",
   "metadata": {},
   "source": [
    "                                                 PYTHON BASICS QUESTIONS"
   ]
  },
  {
   "cell_type": "raw",
   "id": "66fe0e9f-6f43-4208-898d-20f61f869a68",
   "metadata": {},
   "source": [
    "1. what is Python,and why is it popular?\n",
    "   - Python is a high-level, programming language witch is known for its simplicity and       readability. It's popular due to its        easy syntax, vast library support, and       strong community, making it ideal for web development, data science, automation,         and more.\n"
   ]
  },
  {
   "cell_type": "raw",
   "id": "43b34af5-eb4f-405f-b549-89d2f612464d",
   "metadata": {},
   "source": [
    "2. What is an interpreter in Python?\n",
    "   -An interpreter is a program that executes Python code line by line, converting it        into machine code at runtime, which help     with debugging and rapid development.\n",
    "\n"
   ]
  },
  {
   "cell_type": "raw",
   "id": "72eed18e-64d2-4b15-9922-5d3bb7602451",
   "metadata": {},
   "source": [
    "3. What are pre-defined keywords in Python?\n",
    "   -Pre-defined keywords are reserved words in Python that have special meanings, like       if, else, for, while, class, and def.       we should not use these pre-defined          keywords as a variable as it looses its pre-defined value.\n",
    "\n"
   ]
  },
  {
   "cell_type": "raw",
   "id": "aa1a635f-1271-4a59-a35b-9dfbd44d7fab",
   "metadata": {},
   "source": [
    "4. Can keywords be used as variable names?\n",
    "    -No, keywords cannot be used as variable names because they are reserved by the           language for specific purposes.\n"
   ]
  },
  {
   "cell_type": "raw",
   "id": "cfeac5a9-1fbf-4057-836e-8569f1994787",
   "metadata": {},
   "source": [
    "5. What is mutability in Python?\n",
    "   -Mutability refers to whether an object can be changed after it is created. Mutable       objects can be modified, while  immutable ones cannot. It refers to the ability of       an object to be modified after it is created. Mutable objects can have their             values changed, items added or removed, or their internal state altered in other         ways. This contrasts with immutable objects, which cannot be changed once they are       created. Any operation that appears to modify an immutable object actually               creates a new object.\n"
   ]
  },
  {
   "cell_type": "raw",
   "id": "85750b4b-53e1-4411-b39a-e404cd448d67",
   "metadata": {},
   "source": [
    "6. Why are lists mutable, but tuples are immutable?\n",
    "   -Lists are designed for dynamic data, allowing changes like additions or deletions.       Tuples are immutable for safety and         performance, especially when used as         dictionary keys or in multi-threaded programs.\n"
   ]
  },
  {
   "cell_type": "raw",
   "id": "a4d6fcc4-e7cd-455a-875a-5cfe90ada59a",
   "metadata": {},
   "source": [
    "7. What is the difference between \"==\" and \"is\" operators in Python?\n",
    "   - The '==' checks if two values are equal, while 'is' checks if two references point       to the same object in memory.\n"
   ]
  },
  {
   "cell_type": "raw",
   "id": "be89a8ae-247c-47df-95c7-2efbf6492932",
   "metadata": {},
   "source": [
    "8. What are logical operators in Python?\n",
    "   -Logical operators include and, or, and not, which are used to combine conditional        statements.\n"
   ]
  },
  {
   "cell_type": "raw",
   "id": "707b6812-0144-43f4-b038-54d345c5da11",
   "metadata": {},
   "source": [
    "9. What is type casting in Python?\n",
    "    -Type casting is converting a value from one data type to another, such as from a         string to an integer.\n"
   ]
  },
  {
   "cell_type": "raw",
   "id": "68e60df8-78d3-45f7-84b0-44bf58cd56f3",
   "metadata": {},
   "source": [
    "10. What is the difference between implicit and explicit type casting?\n",
    "    -Implicit casting is done automatically by Python (e.g., converting an int to float       in arithmetic), while explicit casting is done manually using functions like int(),      float(), or str().\n"
   ]
  },
  {
   "cell_type": "raw",
   "id": "07ad978a-a248-4f47-be97-65b390534e17",
   "metadata": {},
   "source": [
    "11. What is the purpose of conditional statements in Python?\n",
    "    -Conditional statements allow the execution of certain code blocks based on specific      conditions, helping control the program flow.\n"
   ]
  },
  {
   "cell_type": "raw",
   "id": "a675e3e5-8034-47d2-ad74-3e3db155cdc1",
   "metadata": {},
   "source": [
    "12. How does the elif statement work?\n",
    "    -The elif (short for \"else if\") statement checks another condition if the previous        if condition was False. It's used to test multiple conditions in sequence.\n"
   ]
  },
  {
   "cell_type": "raw",
   "id": "ac96a5b5-88f2-49aa-b7ee-d5b21edcf55b",
   "metadata": {},
   "source": [
    "13. What is the difference between for and while loops?\n",
    "    -A for loop is used when the number of iterations is known or finite (e.g.,               iterating over a list), while a while loop runs as long as a condition is true,          ideal for unknown or variable-length loops.\n",
    "\n"
   ]
  },
  {
   "cell_type": "raw",
   "id": "5e9cf510-d1bb-4ae1-8ddb-2548e37c9a6e",
   "metadata": {},
   "source": [
    "14. Describe a scenario where a while loop is more suitable than a for loop.\n",
    "    -A while loop is better when waiting for user input or a condition to be met, such        as waiting for a user to type \"exit\" before stopping a program"
   ]
  },
  {
   "cell_type": "raw",
   "id": "95b1aa68-6b0b-475e-b4f0-95ead506e87a",
   "metadata": {
    "jupyter": {
     "source_hidden": true
    }
   },
   "source": []
  },
  {
   "cell_type": "raw",
   "id": "8a75d6f9-df06-4f3e-9a9a-5e77845e9a98",
   "metadata": {
    "jupyter": {
     "source_hidden": true
    }
   },
   "source": []
  },
  {
   "cell_type": "raw",
   "id": "161b4419-05ce-4d46-a4bd-33af3b65a71f",
   "metadata": {
    "jupyter": {
     "source_hidden": true
    }
   },
   "source": []
  },
  {
   "cell_type": "raw",
   "id": "c19c8620-4aaa-4f21-a72f-615f732680c6",
   "metadata": {
    "jupyter": {
     "source_hidden": true
    }
   },
   "source": []
  },
  {
   "cell_type": "raw",
   "id": "10cd23cf-f2cb-4829-8689-63ab9457647c",
   "metadata": {},
   "source": [
    "                                                  PRACTICAL QUESTIONS"
   ]
  },
  {
   "cell_type": "code",
   "execution_count": 1,
   "id": "b19ce3bf-c0b1-40d1-beb3-d59ec0172cd5",
   "metadata": {},
   "outputs": [
    {
     "name": "stdout",
     "output_type": "stream",
     "text": [
      "Hello,World!\n"
     ]
    }
   ],
   "source": [
    "#1. Write a Python program to print \"Hello, World!\"\n",
    "print (\"Hello,World!\")"
   ]
  },
  {
   "cell_type": "code",
   "execution_count": 2,
   "id": "e80573fe-74d1-4d66-9b2c-46ba3f57077a",
   "metadata": {},
   "outputs": [
    {
     "name": "stdout",
     "output_type": "stream",
     "text": [
      "NAME= Tushar Lohia\n",
      "AGE = 22\n"
     ]
    }
   ],
   "source": [
    "#2. Write a Python program that displays your name and age.\n",
    "print (\"NAME= Tushar Lohia\")\n",
    "print (\"AGE = 22\")"
   ]
  },
  {
   "cell_type": "code",
   "execution_count": 3,
   "id": "849af041-93cd-42e3-a142-8578a401fe76",
   "metadata": {},
   "outputs": [
    {
     "name": "stdout",
     "output_type": "stream",
     "text": [
      "\n",
      "Here is a list of the Python keywords.  Enter any keyword to get more help.\n",
      "\n",
      "False               class               from                or\n",
      "None                continue            global              pass\n",
      "True                def                 if                  raise\n",
      "and                 del                 import              return\n",
      "as                  elif                in                  try\n",
      "assert              else                is                  while\n",
      "async               except              lambda              with\n",
      "await               finally             nonlocal            yield\n",
      "break               for                 not                 \n",
      "\n"
     ]
    }
   ],
   "source": [
    "#3. Write code to print all the pre-defined keywords in Python using the keyword library.\n",
    "help  ('keywords')\n"
   ]
  },
  {
   "cell_type": "code",
   "execution_count": 5,
   "id": "8d5d82df-8a42-47ca-b94e-c30be1216a3d",
   "metadata": {},
   "outputs": [
    {
     "name": "stdin",
     "output_type": "stream",
     "text": [
      "Enter the word to check if it's a Python keyword:  tushar\n"
     ]
    },
    {
     "name": "stdout",
     "output_type": "stream",
     "text": [
      "'tushar' is not a Python keyword.\n"
     ]
    }
   ],
   "source": [
    "#4. Write a program that checks if a given word is a Python keyword.\n",
    "import keyword\n",
    "word = input(\"Enter the word to check if it's a Python keyword: \")\n",
    "if keyword.iskeyword(word):\n",
    "    print(f\"'{word}' is a Python keyword.\")\n",
    "else:\n",
    "    print(f\"'{word}' is not a Python keyword.\")\n"
   ]
  },
  {
   "cell_type": "code",
   "execution_count": 6,
   "id": "1852a948-3d80-41a1-9bb7-80821049f275",
   "metadata": {},
   "outputs": [
    {
     "name": "stdout",
     "output_type": "stream",
     "text": [
      "Original List: [1, 2, 3]\n",
      "Modified List: [10, 2, 3]\n",
      "Original Tuple: (1, 2, 3)\n",
      "Error: 'tuple' object does not support item assignment\n"
     ]
    }
   ],
   "source": [
    "#5. Create a list and tuple in Python, and demonstrate how attempting to change an element works differently for each.\n",
    "list\n",
    "my_list = [1, 2, 3]\n",
    "print(\"Original List:\", my_list)\n",
    "my_list[0] = 10\n",
    "print(\"Modified List:\", my_list)\n",
    "\n",
    "tuple\n",
    "my_tuple = (1, 2, 3)\n",
    "print(\"Original Tuple:\", my_tuple)\n",
    "try:\n",
    "    my_tuple[0] = 10\n",
    "except TypeError as e:\n",
    "    print(\"Error:\", e)\n",
    "\n"
   ]
  },
  {
   "cell_type": "code",
   "execution_count": 25,
   "id": "70bae304-eedf-49d0-9232-0c3aa5286295",
   "metadata": {},
   "outputs": [
    {
     "name": "stdout",
     "output_type": "stream",
     "text": [
      "Immutable Argument Example:\n",
      "Before function call: 10\n",
      "Before modification: 10\n",
      "After modification inside function: 11\n",
      "After function call: 10\n",
      "\n",
      "Mutable Argument Example:\n",
      "Before function call: [1, 2, 3]\n",
      "Before modification: [1, 2, 3]\n",
      "After modification inside function: [1, 2, 3, 4]\n",
      "After function call: [1, 2, 3, 4]\n"
     ]
    }
   ],
   "source": [
    "#6. Write a function to demonstrate the behavior of mutable and immutable arguments.\n",
    "\n",
    "# Function to demonstrate mutable and immutable argument behavior\n",
    "def demo_mutable_immutable():\n",
    "    # Immutable argument (integer)\n",
    "    def modify_int(num):\n",
    "        print(f\"Before modification: {num}\")\n",
    "        num += 1  # This does not change the original variable\n",
    "        print(f\"After modification inside function: {num}\")\n",
    "    \n",
    "    # Mutable argument (list)\n",
    "    def modify_list(lst):\n",
    "        print(f\"Before modification: {lst}\")\n",
    "        lst.append(4)  # This modifies the original list\n",
    "        print(f\"After modification inside function: {lst}\")\n",
    "\n",
    "    # Testing immutable argument\n",
    "    x = 10\n",
    "    print(\"Immutable Argument Example:\")\n",
    "    print(f\"Before function call: {x}\")\n",
    "    modify_int(x)\n",
    "    print(f\"After function call: {x}\\n\")  # Original variable remains unchanged\n",
    "\n",
    "    # Testing mutable argument\n",
    "    my_list = [1, 2, 3]\n",
    "    print(\"Mutable Argument Example:\")\n",
    "    print(f\"Before function call: {my_list}\")\n",
    "    modify_list(my_list)\n",
    "    print(f\"After function call: {my_list}\")  # Original list is modified\n",
    "\n",
    "# Call the demo function\n",
    "demo_mutable_immutable()\n"
   ]
  },
  {
   "cell_type": "code",
   "execution_count": 8,
   "id": "9adbc2b4-1b40-4986-b95b-062ab08bf029",
   "metadata": {
    "scrolled": true
   },
   "outputs": [
    {
     "name": "stdin",
     "output_type": "stream",
     "text": [
      "Enter first number:  3\n",
      "Enter second number:  2\n"
     ]
    },
    {
     "name": "stdout",
     "output_type": "stream",
     "text": [
      "Addition: 5.0\n",
      "Subtraction: 1.0\n",
      "Multiplication: 6.0\n",
      "Division: 1.5\n"
     ]
    }
   ],
   "source": [
    "#7. Write a program that performs basic arithmetic operations on two user-input numbers.\n",
    "num1 = float(input(\"Enter first number: \"))\n",
    "num2 = float(input(\"Enter second number: \"))\n",
    "print(\"Addition:\", num1 + num2)\n",
    "print(\"Subtraction:\", num1 - num2)\n",
    "print(\"Multiplication:\", num1 * num2)\n",
    "print(\"Division:\", num1 / num2 if num2 != 0 else \"Error: Division by zero\")"
   ]
  },
  {
   "cell_type": "code",
   "execution_count": 9,
   "id": "9c160e3c-7c86-42e4-8d0d-5d248121aaf9",
   "metadata": {},
   "outputs": [
    {
     "name": "stdout",
     "output_type": "stream",
     "text": [
      "AND: True\n",
      "OR: True\n",
      "NOT: False\n"
     ]
    }
   ],
   "source": [
    "#8. Write a program to demonstrate the use of logical operators.\n",
    "x = 5\n",
    "y = 10\n",
    "print(\"AND:\", x > 0 and y > 0)\n",
    "print(\"OR:\", x > 0 or y < 0)\n",
    "print(\"NOT:\", not x > 0)\n",
    "\n"
   ]
  },
  {
   "cell_type": "code",
   "execution_count": 10,
   "id": "47f58a7a-83ec-4276-96b1-5bc422c96f18",
   "metadata": {},
   "outputs": [
    {
     "name": "stdin",
     "output_type": "stream",
     "text": [
      "Enter a value:  4\n"
     ]
    },
    {
     "name": "stdout",
     "output_type": "stream",
     "text": [
      "Integer: 4\n",
      "Float: 4.0\n",
      "Boolean: True\n"
     ]
    }
   ],
   "source": [
    "#9. Write a Python program to convert user input from string to integer, float, and boolean types.\n",
    "user_input = input(\"Enter a value: \")\n",
    "print(\"Integer:\", int(user_input))\n",
    "print(\"Float:\", float(user_input))\n",
    "print(\"Boolean:\", bool(user_input))\n"
   ]
  },
  {
   "cell_type": "code",
   "execution_count": 11,
   "id": "4348f43a-3731-41c9-a9b0-e1f9c1e18f59",
   "metadata": {},
   "outputs": [
    {
     "name": "stdout",
     "output_type": "stream",
     "text": [
      "Modified list: [1, 2, 3]\n"
     ]
    }
   ],
   "source": [
    "#10. Write code to demonstrate type casting with list elements.\n",
    "\n",
    "my_list = [\"1\", \"2\", \"3\"]\n",
    "my_list = [int(x) for x in my_list]\n",
    "print(\"Modified list:\", my_list)\n"
   ]
  },
  {
   "cell_type": "code",
   "execution_count": 12,
   "id": "d1000682-1595-4cd5-9b33-0a206ef4b766",
   "metadata": {},
   "outputs": [
    {
     "name": "stdin",
     "output_type": "stream",
     "text": [
      "Enter a number:  3\n"
     ]
    },
    {
     "name": "stdout",
     "output_type": "stream",
     "text": [
      "The number is positive\n"
     ]
    }
   ],
   "source": [
    "#11. Write a program that checks if a number is positive, negative, or zero.\n",
    "\n",
    "num = float(input(\"Enter a number: \"))\n",
    "if num > 0:\n",
    "    print(\"The number is positive\")\n",
    "elif num < 0:\n",
    "    print(\"The number is negative\")\n",
    "else:\n",
    "    print(\"The number is zero\")\n",
    "\n"
   ]
  },
  {
   "cell_type": "code",
   "execution_count": 13,
   "id": "0789961b-78ec-4dc1-893d-1812686e8f26",
   "metadata": {},
   "outputs": [
    {
     "name": "stdout",
     "output_type": "stream",
     "text": [
      "1\n",
      "2\n",
      "3\n",
      "4\n",
      "5\n",
      "6\n",
      "7\n",
      "8\n",
      "9\n",
      "10\n"
     ]
    }
   ],
   "source": [
    "#12. Write a for loop to print numbers from 1 to 10.\n",
    "for i in range(1, 11):\n",
    "    print(i)\n"
   ]
  },
  {
   "cell_type": "code",
   "execution_count": 22,
   "id": "7adecce9-f4a3-4f52-a60b-d8e84c4dfc96",
   "metadata": {},
   "outputs": [
    {
     "name": "stdout",
     "output_type": "stream",
     "text": [
      "Sum of even numbers from 1 to 50= 650\n"
     ]
    }
   ],
   "source": [
    "#13. Write a Python program to find the sum of all even numbers between 1 and 50.\n",
    "sum_even = 0\n",
    "for i in range(1,51):\n",
    "    if i % 2 == 0:\n",
    "        sum_even += i\n",
    "\n",
    "print(\"Sum of even numbers from 1 to 50=\", sum_even)\n"
   ]
  },
  {
   "cell_type": "code",
   "execution_count": 23,
   "id": "8f44dfd1-021a-4fa3-9683-1974233fb162",
   "metadata": {},
   "outputs": [
    {
     "name": "stdin",
     "output_type": "stream",
     "text": [
      "Enter a sting:  dfuyvig\n"
     ]
    },
    {
     "name": "stdout",
     "output_type": "stream",
     "text": [
      "reversed string: givyufd\n"
     ]
    }
   ],
   "source": [
    "#14. Write a program to reverse a string using a while loop.\n",
    "s = input(\"Enter a sting: \")\n",
    "reversed_str = \"\"\n",
    "i = len(s) - 1\n",
    "while i>= 0:\n",
    "    reversed_str += s[i]\n",
    "    i -= 1\n",
    "print(\"reversed string:\", reversed_str)"
   ]
  },
  {
   "cell_type": "code",
   "execution_count": 17,
   "id": "369b1a53-018a-4bfb-af46-cb123a49480b",
   "metadata": {},
   "outputs": [
    {
     "name": "stdin",
     "output_type": "stream",
     "text": [
      "Enter a Number= 23\n"
     ]
    },
    {
     "name": "stdout",
     "output_type": "stream",
     "text": [
      "Factorial: 25852016738884976640000\n"
     ]
    }
   ],
   "source": [
    "#15. Write a python program to calculate the factorial of a number provided by the user using a while loop.\n",
    "n = int(input(\"Enter a Number=\"))\n",
    "factorial = 1\n",
    "while n > 0:\n",
    "    factorial *= n\n",
    "    n -= 1\n",
    "print(\"Factorial:\", factorial)"
   ]
  }
 ],
 "metadata": {
  "kernelspec": {
   "display_name": "Python 3 (ipykernel)",
   "language": "python",
   "name": "python3"
  },
  "language_info": {
   "codemirror_mode": {
    "name": "ipython",
    "version": 3
   },
   "file_extension": ".py",
   "mimetype": "text/x-python",
   "name": "python",
   "nbconvert_exporter": "python",
   "pygments_lexer": "ipython3",
   "version": "3.13.3"
  }
 },
 "nbformat": 4,
 "nbformat_minor": 5
}
